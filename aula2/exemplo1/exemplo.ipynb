{
 "cells": [
  {
   "cell_type": "markdown",
   "metadata": {},
   "source": [
    "Básico de RAG - Carregando o  arquivo"
   ]
  },
  {
   "cell_type": "code",
   "execution_count": 4,
   "metadata": {},
   "outputs": [],
   "source": [
    "from langchain_community.document_loaders.pdf import PyPDFLoader\n",
    "from langchain_text_splitters import RecursiveCharacterTextSplitter\n",
    "from langchain_openai import OpenAIEmbeddings\n",
    "from dotenv import load_dotenv\n",
    "import os\n",
    "\n",
    "load_dotenv()\n",
    "\n",
    "\n",
    "caminho_arquivo = \"guia-pratico-de-typescript-melhore-suas-aplicacoes-javascript.pdf\"\n",
    "\n",
    "loader = PyPDFLoader(caminho_arquivo)\n",
    "documentos = loader.load()\n",
    "\n"
   ]
  },
  {
   "cell_type": "markdown",
   "metadata": {},
   "source": [
    "Quebrando em chunks"
   ]
  },
  {
   "cell_type": "code",
   "execution_count": 5,
   "metadata": {},
   "outputs": [],
   "source": [
    "recur_split = RecursiveCharacterTextSplitter(\n",
    "    chunk_size=500,\n",
    "    chunk_overlap=50,\n",
    "    separators=[\"\\n\\n\", \"\\n\", \".\", \" \", \"\"]\n",
    ")\n",
    "\n",
    "documents = recur_split.split_documents(documentos)"
   ]
  },
  {
   "cell_type": "markdown",
   "metadata": {},
   "source": [
    "Converte os textos em vetores"
   ]
  },
  {
   "cell_type": "code",
   "execution_count": 6,
   "metadata": {},
   "outputs": [],
   "source": [
    "\n",
    "embeddings_model = OpenAIEmbeddings(api_key=os.getenv(\"OPENAI_API_KEY\"))\n",
    "\n",
    "from langchain_community.vectorstores.faiss import FAISS\n",
    "\n",
    "vectorstore = FAISS.from_documents(\n",
    "    documents=documents,\n",
    "    embedding=embeddings_model\n",
    ")\n",
    "retriever = vectorstore.as_retriever(search_type='mmr')"
   ]
  },
  {
   "cell_type": "markdown",
   "metadata": {},
   "source": [
    "Conversando com o arquivo"
   ]
  },
  {
   "cell_type": "code",
   "execution_count": 7,
   "metadata": {},
   "outputs": [
    {
     "data": {
      "text/plain": [
       "[Document(metadata={'source': 'guia-pratico-de-typescript-melhore-suas-aplicacoes-javascript.pdf', 'page': 1}, page_content='E-book gerado especialmente para Thiago Adriano - tadriano.net@gmail.com'),\n",
       " Document(metadata={'source': 'guia-pratico-de-typescript-melhore-suas-aplicacoes-javascript.pdf', 'page': 7}, page_content='Figura\\t1:\\tThiago\\tSilva\\tAdriano\\nSou\\t Microsoft\\t (MVP)\\t e\\t atualmente\\t trabalho\\t como\\t líde r\\ntécnico\\tna\\tempresa\\tTV\\tBandeirantes.\\tNestes\\túltimos\\t anos,\\tfoquei\\nnas\\ttecnologias\\tcriadas\\tpela\\tMicrosoft,\\tmas\\testou\\ts empre\\tantenado\\ncom\\tas\\tnovas\\ttendências\\tque\\testão\\tsurgindo\\tno\\tmerca do.\\tSou\\tuma\\npessoa\\tapaixonada\\tpelo\\tque\\tfaz\\te\\ttem\\ta\\tsua\\tprofissã o\\tcomo\\thobby.\\nBlog:\\t https://programadriano.medium.com/\\nGitHub:\\t https://github.com/programadriano\\nPodcast:\\t https://devshow.com.br ,\\tonde\\teu\\te\\talguns\\tamigos'),\n",
       " Document(metadata={'source': 'guia-pratico-de-typescript-melhore-suas-aplicacoes-javascript.pdf', 'page': 157}, page_content='6c935e.jpg\" ,\\n\"credito\" :\\t\"Carlos\\tReinis/Band\" ,\\n\"legenda\" :\\t\"Foi\\ta\\tvez\\tde\\tCésar\\tMenotti\\te\\tMaraísa\\tmostrarem\\tseu s\\td\\notes\\tculinários\"\\n}\\n],\\n[\\n{\\n\"thumb\" :\\t\"https://pubimg.band.uol.com.br/files/fad9cc5b705a0 31950\\n87.jpg\" ,\\n146\\t12.3\\tTESTANDO\\tAS\\tNOVAS\\tROTAS\\nE-book gerado especialmente para Thiago Adriano - tadriano.net@gmail.com'),\n",
       " Document(metadata={'source': 'guia-pratico-de-typescript-melhore-suas-aplicacoes-javascript.pdf', 'page': 24}, page_content='de}\\tanos.2.4\\tSTRING\\n2.4\\tSTRING \\t13\\nE-book gerado especialmente para Thiago Adriano - tadriano.net@gmail.com')]"
      ]
     },
     "execution_count": 7,
     "metadata": {},
     "output_type": "execute_result"
    }
   ],
   "source": [
    "retriever.invoke(\"Thiago da Silva Adriano\")"
   ]
  }
 ],
 "metadata": {
  "kernelspec": {
   "display_name": "env",
   "language": "python",
   "name": "python3"
  },
  "language_info": {
   "codemirror_mode": {
    "name": "ipython",
    "version": 3
   },
   "file_extension": ".py",
   "mimetype": "text/x-python",
   "name": "python",
   "nbconvert_exporter": "python",
   "pygments_lexer": "ipython3",
   "version": "3.11.8"
  }
 },
 "nbformat": 4,
 "nbformat_minor": 2
}
