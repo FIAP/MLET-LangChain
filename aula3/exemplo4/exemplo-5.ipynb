{
 "cells": [
  {
   "cell_type": "markdown",
   "metadata": {},
   "source": [
    "Trabalhando com prompt template"
   ]
  },
  {
   "cell_type": "code",
   "execution_count": 2,
   "metadata": {},
   "outputs": [
    {
     "name": "stdout",
     "output_type": "stream",
     "text": [
      "\n",
      "Renda fixa é um modelo de remuneração em que os trabalhadores recebem o mesmo salário ou renda independentemente do tempo ou da quantidade de trabalho realizado. Exemplos incluem salários fixos, bônus e prêmios.\n",
      "\n",
      "Vantagens:\n",
      "\n",
      "* Mantenimento da estabilidade financeira do trabalhador, não sendo afetado pelas mudanças na quantidade de trabalho realizado;\n",
      "* Incentiva o trabalhador a melhorar a qualidade do trabalho, visto que o salário não é afetado pelo volume de trabalho;\n",
      "* Redução da pressão para trabalhar longas horas semager intervalos de descanso, contribuindo para a saúde e bem-estar do trabalhador.\n",
      "\n",
      "Desvantagens:\n",
      "\n",
      "* Pode haver limitações na capacidade do trabalhador de aumentar sua renda, dependendo do salário fixo;\n",
      "* O trabalhador pode sentir-se insatisfeito com o salário fixes, especialmente se ele não for suficiente para cubrir suas necessidades financeiras;\n",
      "* O modelo de remuneração pode incentivar o trabalhador a realizar trabalhos menos intensivos, o que pode afetar a qualidade do trabalho.\n",
      "\n",
      "Em resumo, a renda fixa é um modelo de remuneração em que o salário ou renderá não varia com a quantidade de tempo ou de trabalho realizado. Existem vantagens e desvantagens deste modelo, e sua adoção pode depender do tipo de negócio e das necessidades financeiras dos trabalhadores.\n"
     ]
    }
   ],
   "source": [
    "from langchain_community.llms import Ollama\n",
    "from langchain.prompts import PromptTemplate\n",
    "\n",
    "llm = Ollama(\n",
    "    model=\"llama2\",\n",
    "    num_gpu=0\n",
    ")\n",
    "\n",
    "limite_palavras = PromptTemplate.from_template('''\n",
    "Responda a pergunta em até {numero_palavras} palavras.''')\n",
    "\n",
    "idioma = PromptTemplate.from_template('''\n",
    "Responda a resposta em {idioma}.''')\n",
    "\n",
    "instrucoes = PromptTemplate.from_template('''\n",
    "Inclua exemplos, vantagens e desvantagens na sua resposta.\n",
    "Dê um resumo final sobre o conceito de renda fixa.\n",
    "''')\n",
    "\n",
    "\n",
    "template_final = (\n",
    "    limite_palavras\n",
    "    + idioma\n",
    "    + instrucoes\n",
    "    + '\\nExplique o conceito de renda fixa seguindo as instruções: {pergunta}'\n",
    ")\n",
    "\n",
    "prompt = template_final.format(numero_palavras=50, idioma='Português', pergunta='O que é renda fixa?')\n",
    "result = llm.invoke(prompt)\n",
    "print(result)\n"
   ]
  }
 ],
 "metadata": {
  "kernelspec": {
   "display_name": "env",
   "language": "python",
   "name": "python3"
  },
  "language_info": {
   "codemirror_mode": {
    "name": "ipython",
    "version": 3
   },
   "file_extension": ".py",
   "mimetype": "text/x-python",
   "name": "python",
   "nbconvert_exporter": "python",
   "pygments_lexer": "ipython3",
   "version": "3.11.8"
  }
 },
 "nbformat": 4,
 "nbformat_minor": 2
}
