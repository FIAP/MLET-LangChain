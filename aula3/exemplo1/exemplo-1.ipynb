{
 "cells": [
  {
   "cell_type": "markdown",
   "metadata": {},
   "source": [
    "Chamada com OPENAI https://platform.openai.com/api-keys "
   ]
  },
  {
   "cell_type": "code",
   "execution_count": 2,
   "metadata": {},
   "outputs": [
    {
     "name": "stdout",
     "output_type": "stream",
     "text": [
      "\n",
      "\n",
      "1. Tesouro Direto: O Tesouro Direto é considerado um dos investimentos mais seguros do mercado, pois é garantido pelo governo federal. Com R$10.000, é possível adquirir títulos públicos como Tesouro Selic, Tesouro IPCA+ ou Tesouro Prefixado. Esses títulos oferecem rendimentos superiores à poupança e possuem diferentes prazos de vencimento, permitindo ao investidor escolher a opção mais adequada ao seu perfil.\n",
      "\n",
      "2. Fundos de Investimento: Os fundos de investimento são uma opção interessante para quem busca diversificação em sua carteira. Com R$10.000, é possível investir em fundos de renda fixa, que buscam acompanhar a variação dos juros ou em fundos de renda variável, que investem em ações, por exemplo. É importante avaliar a taxa de administração e o histórico de rentabilidade do fundo antes de investir.\n",
      "\n",
      "3. CDBs: Os Certificados de Depósito Bancário (CDBs) são títulos emitidos por bancos para captar recursos. Com R$10.\n"
     ]
    }
   ],
   "source": [
    "import os\n",
    "from langchain_openai import OpenAI\n",
    "from dotenv import load_dotenv\n",
    "\n",
    "load_dotenv()\n",
    "\n",
    "def generate_investment_flow():\n",
    "    llm = OpenAI(api_key=os.getenv(\"OPENAI_API_KEY\"))\n",
    "    \n",
    "    prompt = \"Olá, você tem R$10.000 para investir. Quais são as melhores opções de investimento atualmente? Me forneça 5 opções detalhadas.\"\n",
    "    \n",
    "    investments = llm(prompt)\n",
    "    \n",
    "    return investments\n",
    "\n",
    "if __name__ == \"__main__\":\n",
    "    print(generate_investment_flow())"
   ]
  },
  {
   "cell_type": "markdown",
   "metadata": {},
   "source": [
    "Exemplo com prompt"
   ]
  },
  {
   "cell_type": "code",
   "execution_count": 3,
   "metadata": {},
   "outputs": [
    {
     "name": "stderr",
     "output_type": "stream",
     "text": [
      "/var/folders/8_/k1fm88l93q978ncwnjpl0rzr0000gn/T/ipykernel_10220/311874990.py:9: LangChainDeprecationWarning: The class `OpenAI` was deprecated in LangChain 0.0.10 and will be removed in 0.3.0. An updated version of the class exists in the langchain-openai package and should be used instead. To use it run `pip install -U langchain-openai` and import as `from langchain_openai import OpenAI`.\n",
      "  llm = OpenAI(temperature=0.6, api_key=os.getenv(\"OPENAI_API_KEY\"))\n"
     ]
    },
    {
     "name": "stdout",
     "output_type": "stream",
     "text": [
      "\n",
      "\n",
      "1. Tesouro Direto\n",
      "O Tesouro Direto é um programa do governo federal que permite a compra de títulos públicos por pessoas físicas. É considerado um investimento seguro, pois possui a garantia do governo e pode ser resgatado a qualquer momento. Com R$10000, é possível investir em títulos como Tesouro Selic, que acompanha a taxa básica de juros, ou Tesouro IPCA+, que protege o investidor da inflação.\n",
      "\n",
      "2. Fundos de Investimento\n",
      "Os fundos de investimento são uma opção para quem busca diversificação. Com R$10000, é possível investir em diferentes tipos de fundos, como de renda fixa, multimercados e ações. É importante analisar a rentabilidade passada do fundo e as taxas cobradas antes de investir.\n",
      "\n",
      "3. CDBs\n",
      "Os Certificados de Depósito Bancário (CDBs) são títulos emitidos pelos bancos que oferecem uma rentabilidade maior do que a poupança. Com R$10000, é possível encontrar CDBs com prazos e taxas de rentabilidade variadas. É importante\n"
     ]
    }
   ],
   "source": [
    "import os\n",
    "from langchain.llms import OpenAI\n",
    "from dotenv import load_dotenv\n",
    "from langchain.prompts import PromptTemplate\n",
    "\n",
    "load_dotenv()\n",
    "\n",
    "def generate_investment_flow():\n",
    "    llm = OpenAI(temperature=0.6, api_key=os.getenv(\"OPENAI_API_KEY\"))\n",
    "    \n",
    "    template = PromptTemplate(input_variables=[\"name\", \"amount\"], \n",
    "                              template=\"Olá {name}, você tem R${amount} para investir. Quais são as melhores opções de investimento atualmente? Me forneça algumas opções detalhadas.\")\n",
    "    \n",
    "    prompt = template.format(name=\"Thiago S Adriano\", amount=\"10000\")\n",
    "    \n",
    "    investments = llm(prompt)\n",
    "    \n",
    "    return investments\n",
    "\n",
    "if __name__ == \"__main__\":\n",
    "    print(generate_investment_flow())\n"
   ]
  },
  {
   "cell_type": "markdown",
   "metadata": {},
   "source": [
    "No Zero-Shot Prompt, o modelo recebe apenas a pergunta ou instrução sem exemplos anteriores para auxiliar a resposta.\n",
    "\n"
   ]
  },
  {
   "cell_type": "code",
   "execution_count": 4,
   "metadata": {},
   "outputs": [
    {
     "name": "stdout",
     "output_type": "stream",
     "text": [
      "\n",
      "\n",
      "Paris.\n"
     ]
    }
   ],
   "source": [
    "from langchain.llms import OpenAI\n",
    "\n",
    "llm = OpenAI()\n",
    "prompt = \"Qual é a capital da França?\"\n",
    "\n",
    "response = llm.invoke(prompt)\n",
    "print(response)"
   ]
  },
  {
   "cell_type": "markdown",
   "metadata": {},
   "source": [
    "No One-Shot Prompt, fornecemos um exemplo anterior para ajudar o modelo a entender o padrão esperado na resposta."
   ]
  },
  {
   "cell_type": "code",
   "execution_count": 5,
   "metadata": {},
   "outputs": [
    {
     "name": "stdout",
     "output_type": "stream",
     "text": [
      "Resposta: A capital da França é Paris.\n"
     ]
    }
   ],
   "source": [
    "from langchain.llms import OpenAI\n",
    "\n",
    "llm = OpenAI()\n",
    "\n",
    "# Um exemplo de referência antes da pergunta principal\n",
    "prompt = \"\"\"\n",
    "Pergunta: Qual é a capital da Espanha?\n",
    "Resposta: A capital da Espanha é Madrid.\n",
    "\n",
    "Pergunta: Qual é a capital da França?\n",
    "\"\"\"\n",
    "\n",
    "response = llm.invoke(prompt)\n",
    "print(response)"
   ]
  },
  {
   "cell_type": "markdown",
   "metadata": {},
   "source": [
    "No Few-Shot Prompt, fornecemos alguns exemplos para ajudar o modelo a identificar o padrão nas respostas."
   ]
  },
  {
   "cell_type": "code",
   "execution_count": null,
   "metadata": {},
   "outputs": [],
   "source": [
    "from langchain.llms import OpenAI\n",
    "\n",
    "llm = OpenAI()\n",
    "\n",
    "# Fornecendo múltiplos exemplos antes da pergunta principal\n",
    "prompt = \"\"\"\n",
    "Pergunta: Qual é a capital da Espanha?\n",
    "Resposta: A capital da Espanha é Madrid.\n",
    "\n",
    "Pergunta: Qual é a capital da Alemanha?\n",
    "Resposta: A capital da Alemanha é Berlim.\n",
    "\n",
    "Pergunta: Qual é a capital da França?\n",
    "\"\"\"\n",
    "\n",
    "response = llm.invoke(prompt)\n",
    "print(response)\n"
   ]
  }
 ],
 "metadata": {
  "kernelspec": {
   "display_name": "env",
   "language": "python",
   "name": "python3"
  },
  "language_info": {
   "codemirror_mode": {
    "name": "ipython",
    "version": 3
   },
   "file_extension": ".py",
   "mimetype": "text/x-python",
   "name": "python",
   "nbconvert_exporter": "python",
   "pygments_lexer": "ipython3",
   "version": "3.11.8"
  }
 },
 "nbformat": 4,
 "nbformat_minor": 2
}
