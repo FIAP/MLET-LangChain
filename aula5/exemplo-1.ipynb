{
 "cells": [
  {
   "cell_type": "markdown",
   "metadata": {},
   "source": [
    "OpenAI"
   ]
  },
  {
   "cell_type": "code",
   "execution_count": null,
   "metadata": {},
   "outputs": [],
   "source": [
    "from langchain_openai import OpenAI\n",
    "\n",
    "llm = OpenAI(model='gpt-3.5-turbo-instruct')\n",
    "\n",
    "pergunta = 'O que e Renda Fixa'\n",
    "for trecho in llm.stream(pergunta):\n",
    "    print(trecho, end='')"
   ]
  },
  {
   "cell_type": "markdown",
   "metadata": {},
   "source": [
    "mistralai"
   ]
  },
  {
   "cell_type": "code",
   "execution_count": null,
   "metadata": {},
   "outputs": [],
   "source": [
    "from langchain import PromptTemplate, LLMChain\n",
    "from langchain_community.llms.huggingface_endpoint import HuggingFaceEndpoint\n",
    "\n",
    "\n",
    "modelo = 'mistralai/Mixtral-8x7B-Instruct-v0.1'\n",
    "llm = HuggingFaceEndpoint(repo_id=modelo)\n",
    "\n",
    "template = PromptTemplate.from_template(\"{role}: {content}\")\n",
    "\n",
    "llm_chain = LLMChain(prompt=template, llm=llm)\n",
    "\n",
    "messages = [\n",
    "    {\"role\": \"user\", \"content\": \"Me conte sobre o filme Vingadores de 2012 em português\"}\n",
    "]\n",
    "\n",
    "for message in messages:\n",
    "    response = llm_chain.predict(role=message[\"role\"], content=message[\"content\"])\n",
    "    print(response)"
   ]
  },
  {
   "cell_type": "code",
   "execution_count": null,
   "metadata": {},
   "outputs": [],
   "source": [
    "import requests\n",
    "import json\n",
    "from dotenv import load_dotenv\n",
    "import os\n",
    "\n",
    "load_dotenv()\n",
    "\n",
    "api_key = os.getenv(\"HUGGINGFACEHUB_API_TOKEN\")\n",
    "\n",
    "endpoint_url = \"https://api-inference.huggingface.co/models/mistralai/Mixtral-8x7B-Instruct-v0.1\"\n",
    "\n",
    "headers = {\n",
    "    \"Authorization\": f\"Bearer {api_key}\",\n",
    "    \"Content-Type\": \"application/json\"\n",
    "}\n",
    "\n",
    "messages = [\n",
    "    {\"role\": \"user\", \"content\": \"Me conte sobre o filme Vingadores de 2012 em português\"}\n",
    "]\n",
    "\n",
    "inputs = \"\\n\".join([f\"{message['role']}: {message['content']}\" for message in messages])\n",
    "\n",
    "data = {\n",
    "    \"inputs\": inputs  \n",
    "}\n",
    "\n",
    "response = requests.post(endpoint_url, headers=headers, data=json.dumps(data))\n",
    "\n",
    "if response.status_code == 200:\n",
    "    response_data = response.json()\n",
    "    print(response_data)\n",
    "else:\n",
    "    print(f\"Erro: {response.status_code}\")\n",
    "    print(response.text)\n"
   ]
  },
  {
   "cell_type": "markdown",
   "metadata": {},
   "source": [
    "Llama2"
   ]
  },
  {
   "cell_type": "code",
   "execution_count": null,
   "metadata": {},
   "outputs": [],
   "source": [
    "from langchain_community.llms import Ollama\n",
    "from langchain.callbacks.manager import CallbackManager\n",
    "from langchain.callbacks.streaming_stdout import StreamingStdOutCallbackHandler\n",
    "\n",
    "llm = Ollama(\n",
    "    model=\"phi3\",\n",
    "    num_gpu=0,    \n",
    "    callback_manager=CallbackManager([StreamingStdOutCallbackHandler()])\n",
    ")\n",
    "\n",
    "response = llm.invoke(\"Me conte sobre o filme Vingadores de 2012\")\n",
    "print(response)"
   ]
  },
  {
   "cell_type": "code",
   "execution_count": 5,
   "metadata": {},
   "outputs": [
    {
     "name": "stdout",
     "output_type": "stream",
     "text": [
      "Resposta gerada: Para os iniciantes que buscam uma primeira experiência no mundo do investimento, eu recomendo considerar o mercado de ações por meio de plataformas online ou investimentos diretos em companhias listadas. As contas de abertura para esses investimentos são fáceis e muitas vezinhas gratuitas pelos bancos oficiais, como as disponíveis no Brasil pela Caixa Econômica Federal através do PortfoliX ou na Itaú Unibanco pelo Investimento Online.\n",
      "\n",
      "Aqui estão os passos para começar: \n",
      "\n",
      "1. Decida quanto dinheiro você está pronto e seguro para investir sem afetar suas necessidades financeiras imediatas. Não se sinta obrigado a comprometer todo seu capital; comece pequeno, pois isso oferecerá experiência enquanto mantém o risco mínimo de perda significativa no início da jornada.\n",
      "\n",
      "2. Pesquise e escolha um mercado básico para começar – por exemplo, os Estados Unidos ou a Europa (por meio do Mercado Euronext). O que você procura em seu investimento pode variar: diversificação de risco através da compra dessas companhias listadas diretamente.\n",
      "\n",
      "3. Determine qual é o tipo ideal para sua situação financeira – algumas pessoas preferem uma carteira automática que investe automaticamente e com frequência mensalmente, enquanto outras gostam de personalizar os investimentos manualmente em diferentes empresas. Considere também suas habilidades em planejar pensão para considerar opções como retornos fixos através da compra do título dos Estados Unidos (Ultimas Notícias) ou títulos corporativos brasileiros que oferecem dividendos regulares e mais altos retornos.\n",
      "\n",
      "4. Selecione uma plataforma de investimento online – escolha aqui com base em fatores como recomendações, taxas mensais, facilidade de uso e confiança na empresa. Páginas como Motley Fool têm grandes bibliotecas de dados que permitem aos iniciantes tomarem decisões informadas para investimentos básicos – veja aqui por exemplo: https://www.fool.com\n",
      "\n",
      "5. Abra uma conta e compre suas primeiras participações em empresas ou títulos escolhidos com as economias que você decidiu arcar com este risco financeiro inicialmente, sempre lembrando de reservar um fundo para emergências – normalmente 3 a 6 meses de despesas estimadas.\n",
      "\n",
      "Esses investimentos são bons candidatos porque apresentam: \n",
      "\n",
      "- Canais relativamente fáceis e diretos para começar (investir em uma carteira automática ou comprando títulos corporativos).\n",
      "\n",
      "- Recomendações de expertise profissional sobre qual mercado investir, o que ajuda a evitar erros comuns.\n",
      "\n",
      "- Oportunidades para diversificação financeira e reduzindo o risco geral da carteira ao longo do tempo por meio de uma mistura bem planejada das participações nas empresas listadas em diferentes mercados ou títulos corporativos, oferecendo dividendos regulares.\n",
      "\n",
      "- Potencial para crescimento a longo prazo e retornos mais altos ao investir em marcas estratégicas como as grandes cinco da bolsa de valores do mundo OLEDs (Orange, PepsiCo/Coca Cola, Amazon, Google, Apple).\n",
      "\n",
      "Lembre-se sempre que o mercado pode ter dias negros e ações caírem – isso é normal. Em vez disso, concentre-se em se manter consistente no seu plano de investimento ao longo do tempo e evitar reações impulsivas com base nas notícias ou especulação dos mercados imediatas para garantir uma experiência confortável enquanto você aprende a navegar neste mundo.\n"
     ]
    }
   ],
   "source": [
    "import requests\n",
    "import json\n",
    "\n",
    "url = \"http://localhost:11434/api/chat\"\n",
    "\n",
    "headers = {\n",
    "    \"Content-Type\": \"application/json\"\n",
    "}\n",
    "\n",
    "data = {\n",
    "    \"model\": \"phi3\",\n",
    "    \"messages\": [\n",
    "        { \"role\": \"user\", \"content\": \"Me fale um investimento bom para iniciantes ?\" }\n",
    "    ]\n",
    "}\n",
    "\n",
    "response = requests.post(url, headers=headers, data=json.dumps(data))\n",
    "\n",
    "if response.status_code == 200:\n",
    "    response_lines = response.text.splitlines()\n",
    "\n",
    "    resposta_completa = \"\"\n",
    "    for line in response_lines:\n",
    "        try:\n",
    "            line_data = json.loads(line)\n",
    "            \n",
    "            if line_data['message']['role'] == 'assistant':\n",
    "                resposta_completa += line_data['message']['content']\n",
    "        except json.JSONDecodeError:\n",
    "            continue\n",
    "    \n",
    "    print(\"Resposta gerada:\", resposta_completa)\n",
    "else:\n",
    "    print(f\"Erro {response.status_code}: {response.text}\")\n"
   ]
  },
  {
   "cell_type": "markdown",
   "metadata": {},
   "source": [
    "Curl"
   ]
  }
 ],
 "metadata": {
  "kernelspec": {
   "display_name": "env",
   "language": "python",
   "name": "python3"
  },
  "language_info": {
   "codemirror_mode": {
    "name": "ipython",
    "version": 3
   },
   "file_extension": ".py",
   "mimetype": "text/x-python",
   "name": "python",
   "nbconvert_exporter": "python",
   "pygments_lexer": "ipython3",
   "version": "3.11.8"
  }
 },
 "nbformat": 4,
 "nbformat_minor": 2
}
