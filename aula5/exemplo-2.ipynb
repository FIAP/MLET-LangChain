{
 "cells": [
  {
   "cell_type": "markdown",
   "metadata": {},
   "source": [
    "Leitura de arquivo"
   ]
  },
  {
   "cell_type": "code",
   "execution_count": 4,
   "metadata": {},
   "outputs": [],
   "source": [
    "from langchain_community.llms import Ollama\n",
    "from langchain.callbacks.manager import CallbackManager\n",
    "from langchain.callbacks.streaming_stdout import StreamingStdOutCallbackHandler\n",
    "from langchain.prompts import PromptTemplate\n",
    "from langchain.chains import LLMChain\n",
    "from langchain_community.document_loaders import TextLoader\n",
    "import os"
   ]
  },
  {
   "cell_type": "code",
   "execution_count": 5,
   "metadata": {},
   "outputs": [],
   "source": [
    "def carregar_documentos(caminho_arquivo):\n",
    "    loader = TextLoader(caminho_arquivo)\n",
    "    documentos = loader.load()\n",
    "    return documentos\n",
    "\n",
    "def limpar_texto(texto):\n",
    "    return texto.strip()\n",
    "\n",
    "def criar_llm():\n",
    "    return Ollama(\n",
    "        model=\"llama3.1\",\n",
    "        num_gpu=0,\n",
    "        callback_manager=CallbackManager([StreamingStdOutCallbackHandler()])\n",
    "    )\n",
    "\n",
    "def criar_llm_chain(llm, prompt_template):\n",
    "    return LLMChain(llm=llm, prompt=prompt_template)\n",
    "\n",
    "def definir_templates():\n",
    "    prompt_sentimento = \"Analise o sentimento do seguinte texto em português: {text}\"\n",
    "    prompt_resumo = \"Gere um resumo em português para o seguinte texto: {text}\"\n",
    "\n",
    "    template_sentimento = PromptTemplate(input_variables=[\"text\"], template=prompt_sentimento)\n",
    "    template_resumo = PromptTemplate(input_variables=[\"text\"], template=prompt_resumo)\n",
    "\n",
    "    return template_sentimento, template_resumo"
   ]
  },
  {
   "cell_type": "code",
   "execution_count": 6,
   "metadata": {},
   "outputs": [],
   "source": [
    "\n",
    "def main(caminho_arquivo):\n",
    "    if not os.path.exists(caminho_arquivo):\n",
    "        raise FileNotFoundError(f\"O arquivo {caminho_arquivo} não foi encontrado.\")\n",
    "\n",
    "    documentos = carregar_documentos(caminho_arquivo)\n",
    "\n",
    "    llm = criar_llm()\n",
    "    template_sentimento, template_resumo = definir_templates()\n",
    "\n",
    "    chain_sentimento = criar_llm_chain(llm, template_sentimento)\n",
    "    chain_resumo = criar_llm_chain(llm, template_resumo)\n",
    "\n",
    "    for doc in documentos:\n",
    "        texto_limpo = limpar_texto(doc.page_content)\n",
    "\n",
    "        resultado_sentimento = chain_sentimento.invoke({\"text\": texto_limpo})\n",
    "        resultado_resumo = chain_resumo.invoke({\"text\": texto_limpo})\n",
    "\n",
    "        print(f\"Notícia: {texto_limpo}\")\n",
    "        print(f\"Sentimento: {resultado_sentimento}\")\n",
    "        print(f\"Resumo: {resultado_resumo}\")\n",
    "        print(\"-\" * 120)"
   ]
  },
  {
   "cell_type": "code",
   "execution_count": 7,
   "metadata": {},
   "outputs": [
    {
     "name": "stderr",
     "output_type": "stream",
     "text": [
      "/var/folders/8_/k1fm88l93q978ncwnjpl0rzr0000gn/T/ipykernel_24846/2959393332.py:3: DeprecationWarning: callback_manager is deprecated. Please use callbacks instead.\n",
      "  main(caminho_arquivo)\n",
      "/var/folders/8_/k1fm88l93q978ncwnjpl0rzr0000gn/T/ipykernel_24846/4129635983.py:17: LangChainDeprecationWarning: The class `LLMChain` was deprecated in LangChain 0.1.17 and will be removed in 1.0. Use RunnableSequence, e.g., `prompt | llm` instead.\n",
      "  return LLMChain(llm=llm, prompt=prompt_template)\n"
     ]
    },
    {
     "name": "stdout",
     "output_type": "stream",
     "text": [
      "O sentimento desse texto é MISTO, pois contém informações contraditórias.\n",
      "\n",
      "* Notícias 1 e 3 têm um tom positivo, falando sobre a recuperação da economia global e a inovação impulsionada pelas novas tecnologias.\n",
      "* A Notícia 2, por outro lado, tem um tom negativo, falando sobre o mercado de ações ter caído drasticamente.**Resumo**\n",
      "\n",
      "Com as notícias da economia global começando a se recuperar após a pandemia, o mercado de ações enfrenta um declínio significativo e novas tecnologias impulsionam a inovação nos diversos setores.Notícia: Notícia 1: A economia global está se recuperando após a pandemia.\n",
      "Notícia 2: O mercado de ações caiu drasticamente na última semana.\n",
      "Notícia 3: Novas tecnologias estão impulsionando a inovação em diversas indústrias.\n",
      "Sentimento: {'text': 'O sentimento desse texto é MISTO, pois contém informações contraditórias.\\n\\n* Notícias 1 e 3 têm um tom positivo, falando sobre a recuperação da economia global e a inovação impulsionada pelas novas tecnologias.\\n* A Notícia 2, por outro lado, tem um tom negativo, falando sobre o mercado de ações ter caído drasticamente.'}\n",
      "Resumo: {'text': '**Resumo**\\n\\nCom as notícias da economia global começando a se recuperar após a pandemia, o mercado de ações enfrenta um declínio significativo e novas tecnologias impulsionam a inovação nos diversos setores.'}\n",
      "------------------------------------------------------------------------------------------------------------------------\n"
     ]
    }
   ],
   "source": [
    "if __name__ == \"__main__\":\n",
    "    caminho_arquivo = \"noticias.txt\"\n",
    "    main(caminho_arquivo)"
   ]
  }
 ],
 "metadata": {
  "kernelspec": {
   "display_name": "env",
   "language": "python",
   "name": "python3"
  },
  "language_info": {
   "codemirror_mode": {
    "name": "ipython",
    "version": 3
   },
   "file_extension": ".py",
   "mimetype": "text/x-python",
   "name": "python",
   "nbconvert_exporter": "python",
   "pygments_lexer": "ipython3",
   "version": "3.11.8"
  }
 },
 "nbformat": 4,
 "nbformat_minor": 2
}
