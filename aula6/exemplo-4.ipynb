{
 "cells": [
  {
   "cell_type": "code",
   "execution_count": 6,
   "metadata": {},
   "outputs": [],
   "source": [
    "from langchain.agents import initialize_agent, Tool, AgentType\n",
    "from langchain.llms import OpenAI \n",
    "from langchain.tools import Tool"
   ]
  },
  {
   "cell_type": "code",
   "execution_count": 7,
   "metadata": {},
   "outputs": [],
   "source": [
    "def matematica_tool(query: str) -> str:\n",
    "    return \"Matemática envolve o estudo de números, formas e padrões. Você pode estudar álgebra, geometria, cálculo, etc.\"\n",
    "\n",
    "def ciencia_tool(query: str) -> str:\n",
    "    return \"A ciência é o estudo da natureza e do comportamento de fenômenos naturais. Principais áreas incluem física, química, biologia.\"\n",
    "\n",
    "def historia_tool(query: str) -> str:\n",
    "    return \"História é o estudo de eventos passados. Temas como guerras, revoluções, e a evolução das civilizações são abordados.\""
   ]
  },
  {
   "cell_type": "code",
   "execution_count": 8,
   "metadata": {},
   "outputs": [],
   "source": [
    "tools = [\n",
    "    Tool(\n",
    "        name=\"Matemática\",\n",
    "        func=matematica_tool,\n",
    "        description=\"Use esta ferramenta para perguntas relacionadas a matemática.\"\n",
    "    ),\n",
    "    Tool(\n",
    "        name=\"Ciência\",\n",
    "        func=ciencia_tool,\n",
    "        description=\"Use esta ferramenta para perguntas sobre ciências.\"\n",
    "    ),\n",
    "    Tool(\n",
    "        name=\"História\",\n",
    "        func=historia_tool,\n",
    "        description=\"Use esta ferramenta para perguntas sobre história.\"\n",
    "    )\n",
    "]"
   ]
  },
  {
   "cell_type": "code",
   "execution_count": 9,
   "metadata": {},
   "outputs": [],
   "source": [
    "import os\n",
    "from dotenv import load_dotenv\n",
    "\n",
    "load_dotenv()\n",
    "\n",
    "llm = OpenAI(api_key=os.getenv(\"OPENAI_API_KEY\"))\n",
    "\n",
    "agent = initialize_agent(\n",
    "    tools=tools,\n",
    "    agent_type=AgentType.OPENAI_FUNCTIONS,\n",
    "    llm=llm\n",
    ")"
   ]
  },
  {
   "cell_type": "code",
   "execution_count": 10,
   "metadata": {},
   "outputs": [
    {
     "name": "stdout",
     "output_type": "stream",
     "text": [
      "Os principais tópicos de ciência incluem física, química e biologia, que é o estudo da vida e seus processos.\n"
     ]
    }
   ],
   "source": [
    "query = \"Quais são os principais tópicos de ciência?\"\n",
    "response = agent.run(query)\n",
    "print(response)"
   ]
  }
 ],
 "metadata": {
  "kernelspec": {
   "display_name": "base",
   "language": "python",
   "name": "python3"
  },
  "language_info": {
   "codemirror_mode": {
    "name": "ipython",
    "version": 3
   },
   "file_extension": ".py",
   "mimetype": "text/x-python",
   "name": "python",
   "nbconvert_exporter": "python",
   "pygments_lexer": "ipython3",
   "version": "3.11.8"
  }
 },
 "nbformat": 4,
 "nbformat_minor": 2
}
