{
 "cells": [
  {
   "cell_type": "markdown",
   "metadata": {},
   "source": [
    "Os *tools* são componentes ou funcionalidades específicas que os agentes (AI models) podem usar para realizar ações ou interagir com outros sistemas. Esses tools permitem que o modelo de linguagem execute tarefas específicas, como buscar informações em uma API, consultar bancos de dados, realizar cálculos, ou até mesmo controlar o fluxo de uma conversa."
   ]
  },
  {
   "cell_type": "code",
   "execution_count": 2,
   "metadata": {},
   "outputs": [],
   "source": [
    "from langchain.agents import tool\n",
    "from langchain.pydantic_v1 import BaseModel, Field\n",
    "import requests\n",
    "import statistics"
   ]
  },
  {
   "cell_type": "code",
   "execution_count": 3,
   "metadata": {},
   "outputs": [],
   "source": [
    "class DadosAcaoArgs(BaseModel):\n",
    "    simbolo: str = Field(description='Símbolo da ação a ser buscada', examples=['AAPL', 'MSFT'])\n",
    "    chave_api: str = Field(description='WE604VQLXNV37CEK')\n",
    "\n",
    "@tool(args_schema=DadosAcaoArgs)\n",
    "def buscar_e_analisar_dados_acao(simbolo: str, chave_api: str):\n",
    "    '''Busca dados de ações na API Alpha Vantage e realiza uma análise simples'''\n",
    "    url = f'https://www.alphavantage.co/query?function=TIME_SERIES_DAILY&symbol={simbolo}&apikey={chave_api}'\n",
    "    resposta = requests.get(url)\n",
    "    dados = resposta.json()\n",
    "    \n",
    "    if 'Time Series (Daily)' not in dados:\n",
    "        return 'Erro ao buscar dados da Alpha Vantage'\n",
    "    \n",
    "    serie_temporal = dados['Time Series (Daily)']\n",
    "    \n",
    "    precos_fechamento = [float(detalhes['4. close']) for data, detalhes in serie_temporal.items()]\n",
    "    \n",
    "    media_precos_fechamento = statistics.mean(precos_fechamento)\n",
    "    \n",
    "    return f'A média dos preços de fechamento para {simbolo} é {media_precos_fechamento:.2f}'"
   ]
  },
  {
   "cell_type": "code",
   "execution_count": 4,
   "metadata": {},
   "outputs": [
    {
     "name": "stdout",
     "output_type": "stream",
     "text": [
      "A média dos preços de fechamento para AAPL é 205.76\n"
     ]
    }
   ],
   "source": [
    "chave_api = 'WE604VQLXNV37CEK'\n",
    "simbolo = 'AAPL'\n",
    "\n",
    "args = DadosAcaoArgs(simbolo=simbolo, chave_api=chave_api)\n",
    "\n",
    "resultado = buscar_e_analisar_dados_acao.invoke(args.dict())\n",
    "print(resultado)"
   ]
  }
 ],
 "metadata": {
  "kernelspec": {
   "display_name": "env",
   "language": "python",
   "name": "python3"
  },
  "language_info": {
   "codemirror_mode": {
    "name": "ipython",
    "version": 3
   },
   "file_extension": ".py",
   "mimetype": "text/x-python",
   "name": "python",
   "nbconvert_exporter": "python",
   "pygments_lexer": "ipython3",
   "version": "3.11.8"
  }
 },
 "nbformat": 4,
 "nbformat_minor": 2
}
