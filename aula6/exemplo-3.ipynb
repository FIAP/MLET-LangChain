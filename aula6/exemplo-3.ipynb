{
 "cells": [
  {
   "cell_type": "markdown",
   "metadata": {},
   "source": [
    "https://python.langchain.com/v0.1/docs/modules/agents/"
   ]
  },
  {
   "cell_type": "markdown",
   "metadata": {},
   "source": [
    "https://app.tavily.com/home"
   ]
  },
  {
   "cell_type": "code",
   "execution_count": 1,
   "metadata": {},
   "outputs": [
    {
     "data": {
      "text/plain": [
       "[{'url': 'https://www.weatherapi.com/',\n",
       "  'content': \"{'location': {'name': 'San Paulo', 'region': 'Sao Paulo', 'country': 'Brazil', 'lat': -23.53, 'lon': -46.62, 'tz_id': 'America/Sao_Paulo', 'localtime_epoch': 1725667837, 'localtime': '2024-09-06 21:10'}, 'current': {'last_updated_epoch': 1725667200, 'last_updated': '2024-09-06 21:00', 'temp_c': 17.0, 'temp_f': 62.6, 'is_day': 0, 'condition': {'text': 'Mist', 'icon': '//cdn.weatherapi.com/weather/64x64/night/143.png', 'code': 1030}, 'wind_mph': 8.1, 'wind_kph': 13.0, 'wind_degree': 130, 'wind_dir': 'SE', 'pressure_mb': 1020.0, 'pressure_in': 30.12, 'precip_mm': 0.0, 'precip_in': 0.0, 'humidity': 83, 'cloud': 75, 'feelslike_c': 17.0, 'feelslike_f': 62.6, 'windchill_c': 18.4, 'windchill_f': 65.1, 'heatindex_c': 18.4, 'heatindex_f': 65.1, 'dewpoint_c': 15.4, 'dewpoint_f': 59.7, 'vis_km': 5.0, 'vis_miles': 3.0, 'uv': 1.0, 'gust_mph': 8.2, 'gust_kph': 13.2}}\"},\n",
       " {'url': 'https://www.weather2travel.com/brazil/sao-paulo/september/',\n",
       "  'content': 'Sao Paulo weather in September 2024. Expect 24°C daytime maximum temperatures in the shade with on average 4 hours of sunshine per day in Sao Paulo in September. Check more long-term weather averages for Sao Paulo in September before you book your next holiday to Brazil in 2024/2025.'},\n",
       " {'url': 'https://www.wunderground.com/weather/br/são-paulo',\n",
       "  'content': 'São Paulo, São Paulo, Brazil Weather Conditions star_ratehome. 58 ... 2024 (GMT -3) | Updated just now. 73 ... Tomorrow Sat 09/07 High 90 ...'},\n",
       " {'url': 'https://www.weather-atlas.com/en/brazil/sao-paulo-weather-september',\n",
       "  'content': 'In São Paulo, Brazil, during September, the rain falls for 7 days and regularly aggregates up to 71mm (2.8\") of precipitation. Throughout the year, in São Paulo, Brazil, there are 107 rainfall days, and 1441mm (56.73\") of precipitation is accumulated. Daylight In São Paulo, the average length of the day in September is 11h and 58min.'},\n",
       " {'url': 'https://weatherspark.com/h/y/30268/2024/Historical-Weather-during-2024-in-São-Paulo-Brazil',\n",
       "  'content': 'Raw: SBSP 051200Z 18016KT 4000 BR FEW007 SCT036 18/15 Q1022. This report shows the past weather for São Paulo, providing a weather history for 2024. It features all historical weather data series we have available, including the São Paulo temperature history for 2024. You can drill down from year to month and even day level reports by ...'}]"
      ]
     },
     "execution_count": 1,
     "metadata": {},
     "output_type": "execute_result"
    }
   ],
   "source": [
    "from langchain_community.tools.tavily_search import TavilySearchResults\n",
    "search = TavilySearchResults()\n",
    "search.invoke(\"what is the weather in São Paulo Brasil\")"
   ]
  },
  {
   "cell_type": "markdown",
   "metadata": {},
   "source": [
    "https://huggingface.co/docs/transformers/en/main_classes/agent"
   ]
  },
  {
   "cell_type": "markdown",
   "metadata": {},
   "source": [
    "https://huggingface.co/blog/open-source-llms-as-agents#toy-example-of-a-react-agents-inner-working"
   ]
  }
 ],
 "metadata": {
  "kernelspec": {
   "display_name": "base",
   "language": "python",
   "name": "python3"
  },
  "language_info": {
   "codemirror_mode": {
    "name": "ipython",
    "version": 3
   },
   "file_extension": ".py",
   "mimetype": "text/x-python",
   "name": "python",
   "nbconvert_exporter": "python",
   "pygments_lexer": "ipython3",
   "version": "3.11.8"
  }
 },
 "nbformat": 4,
 "nbformat_minor": 2
}
