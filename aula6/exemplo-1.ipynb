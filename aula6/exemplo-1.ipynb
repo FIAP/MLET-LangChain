{
 "cells": [
  {
   "cell_type": "markdown",
   "metadata": {},
   "source": [
    "Agente de finanças"
   ]
  },
  {
   "cell_type": "code",
   "execution_count": 5,
   "metadata": {},
   "outputs": [
    {
     "data": {
      "text/plain": [
       "True"
      ]
     },
     "execution_count": 5,
     "metadata": {},
     "output_type": "execute_result"
    }
   ],
   "source": [
    "import os\n",
    "from dotenv import load_dotenv\n",
    "import psycopg2\n",
    "from langchain.llms import OpenAI\n",
    "\n",
    "load_dotenv()"
   ]
  },
  {
   "cell_type": "code",
   "execution_count": 6,
   "metadata": {},
   "outputs": [],
   "source": [
    "os.environ[\"OPENAI_API_KEY\"] = os.getenv(\"OPENAI_API_KEY\")"
   ]
  },
  {
   "cell_type": "code",
   "execution_count": 7,
   "metadata": {},
   "outputs": [],
   "source": [
    "def conectar_db():\n",
    "    try:\n",
    "        conn = psycopg2.connect(\n",
    "            dbname=os.getenv(\"DB_NAME\"),\n",
    "            user=os.getenv(\"DB_USER\"),\n",
    "            password=os.getenv(\"DB_PASSWORD\"),\n",
    "            host='localhost',\n",
    "            port=os.getenv(\"DB_PORT\")\n",
    "        )\n",
    "        print(\"Conexão ao banco de dados PostgreSQL bem-sucedida!\")\n",
    "        return conn\n",
    "    except psycopg2.OperationalError as e:\n",
    "        print(f\"Erro ao conectar ao banco de dados: {e}\")\n",
    "        raise"
   ]
  },
  {
   "cell_type": "code",
   "execution_count": 8,
   "metadata": {},
   "outputs": [],
   "source": [
    "def obter_dados_acoes(pergunta):\n",
    "    conn = conectar_db()\n",
    "    cur = conn.cursor()\n",
    "    query = \"\"\"\n",
    "    SELECT s.ticker, s.name, sp.date, sp.open, sp.high, sp.low, sp.close, sp.volume\n",
    "    FROM stocks s\n",
    "    JOIN stock_prices sp ON s.id = sp.stock_id\n",
    "    WHERE s.name ILIKE %s OR s.ticker ILIKE %s;\n",
    "    \"\"\"\n",
    "    cur.execute(query, (f\"%{pergunta}%\", f\"%{pergunta}%\"))\n",
    "    resultados = cur.fetchall()\n",
    "    cur.close()\n",
    "    conn.close()\n",
    "    return resultados"
   ]
  },
  {
   "cell_type": "code",
   "execution_count": 9,
   "metadata": {},
   "outputs": [
    {
     "name": "stderr",
     "output_type": "stream",
     "text": [
      "/var/folders/8_/k1fm88l93q978ncwnjpl0rzr0000gn/T/ipykernel_31860/1523739255.py:1: LangChainDeprecationWarning: The class `OpenAI` was deprecated in LangChain 0.0.10 and will be removed in 0.3.0. An updated version of the class exists in the langchain-openai package and should be used instead. To use it run `pip install -U langchain-openai` and import as `from langchain_openai import OpenAI`.\n",
      "  llm = OpenAI(temperature=0.6, api_key=os.getenv(\"OPENAI_API_KEY\"))\n"
     ]
    }
   ],
   "source": [
    "llm = OpenAI(temperature=0.6, api_key=os.getenv(\"OPENAI_API_KEY\"))"
   ]
  },
  {
   "cell_type": "code",
   "execution_count": 11,
   "metadata": {},
   "outputs": [],
   "source": [
    "def analisar_dados_acoes(dados_acoes): \n",
    " \n",
    "    prompt = \"Analise os seguintes dados de ações e forneça insights detalhados:\\n\"\n",
    "    \n",
    "    for dado in dados_acoes:\n",
    "        prompt += (f\"Ticker: {dado[0]}, Nome: {dado[1]}, Data: {dado[2]}, \"\n",
    "                   f\"Abertura: {dado[3]}, Máxima: {dado[4]}, Mínima: {dado[5]}, \"\n",
    "                   f\"Fechamento: {dado[6]}, Volume: {dado[7]}\\n\")\n",
    " \n",
    "    prompt += \"\\nPor favor, forneça um resumo e quaisquer tendências ou insights notáveis.\"\n",
    "    \n",
    "    insights = llm(prompt)\n",
    "    return insights\n",
    "\n",
    "def responder_pergunta(pergunta):\n",
    "    dados_acoes = obter_dados_acoes(pergunta)\n",
    "    if dados_acoes:\n",
    "        resposta = f\"Dados encontrados para '{pergunta}':\\n\"\n",
    "        for dado in dados_acoes:\n",
    "            resposta += (f\"Ticker: {dado[0]}, Nome: {dado[1]}, Data: {dado[2]}, \"\n",
    "                         f\"Abertura: {dado[3]}, Máxima: {dado[4]}, Mínima: {dado[5]}, \"\n",
    "                         f\"Fechamento: {dado[6]}, Volume: {dado[7]}\\n\")\n",
    "        resposta += \"\\nInsights da OpenAI:\\n\"\n",
    "        resposta += analisar_dados_acoes(dados_acoes)\n",
    "    else:\n",
    "        resposta = f\"Nenhum dado encontrado para '{pergunta}'.\"\n",
    "    return resposta"
   ]
  },
  {
   "cell_type": "code",
   "execution_count": 12,
   "metadata": {},
   "outputs": [
    {
     "name": "stdout",
     "output_type": "stream",
     "text": [
      "Conexão ao banco de dados PostgreSQL bem-sucedida!\n"
     ]
    },
    {
     "name": "stderr",
     "output_type": "stream",
     "text": [
      "/var/folders/8_/k1fm88l93q978ncwnjpl0rzr0000gn/T/ipykernel_31860/552221584.py:12: LangChainDeprecationWarning: The method `BaseLLM.__call__` was deprecated in langchain-core 0.1.7 and will be removed in 1.0. Use invoke instead.\n",
      "  insights = llm(prompt)\n"
     ]
    },
    {
     "name": "stdout",
     "output_type": "stream",
     "text": [
      "Dados encontrados para 'AAPL':\n",
      "Ticker: AAPL, Nome: Apple Inc., Data: 2023-08-01, Abertura: 145.00, Máxima: 147.50, Mínima: 144.00, Fechamento: 146.50, Volume: 80000000\n",
      "Ticker: AAPL, Nome: Apple Inc., Data: 2023-08-02, Abertura: 146.00, Máxima: 148.00, Mínima: 145.50, Fechamento: 147.00, Volume: 82000000\n",
      "Ticker: AAPL, Nome: Apple Inc., Data: 2023-08-03, Abertura: 147.50, Máxima: 149.00, Mínima: 146.00, Fechamento: 148.50, Volume: 85000000\n",
      "\n",
      "Insights da OpenAI:\n",
      "\n",
      "\n",
      "O ticker AAPL representa as ações da empresa Apple Inc. e os dados fornecidos são referentes aos dias 1, 2 e 3 de agosto de 2023. Podemos observar que houve uma tendência de alta nos preços das ações durante esses três dias.\n",
      "\n",
      "No dia 1, as ações da Apple abriram com um valor de 145.00 e atingiram sua máxima em 147.50, fechando o dia em 146.50. O volume de negociações foi de 80000000. Já no dia 2, houve uma pequena variação de preço, com a abertura em 146.00 e a máxima em 148.00. As ações fecharam o dia em 147.00 e o volume de negociações aumentou para 82000000. No dia 3, as ações da empresa abriram com um valor de 147.50 e atingiram sua máxima em 149.00, fechando o dia em 148.50. O volume de negociações também aumentou, chegando a 85000000.\n",
      "\n",
      "Podemos notar que,\n"
     ]
    }
   ],
   "source": [
    "def main():\n",
    "    pergunta = input(\"Sobre qual ação você deseja saber informações? \")\n",
    "    resposta = responder_pergunta(pergunta)\n",
    "    print(resposta)\n",
    "\n",
    "if __name__ == \"__main__\":\n",
    "    main()"
   ]
  }
 ],
 "metadata": {
  "kernelspec": {
   "display_name": "env",
   "language": "python",
   "name": "python3"
  },
  "language_info": {
   "codemirror_mode": {
    "name": "ipython",
    "version": 3
   },
   "file_extension": ".py",
   "mimetype": "text/x-python",
   "name": "python",
   "nbconvert_exporter": "python",
   "pygments_lexer": "ipython3",
   "version": "3.11.8"
  }
 },
 "nbformat": 4,
 "nbformat_minor": 2
}
