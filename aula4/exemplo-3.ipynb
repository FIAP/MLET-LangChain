{
 "cells": [
  {
   "cell_type": "code",
   "execution_count": 2,
   "metadata": {},
   "outputs": [],
   "source": [
    "from langchain_community.document_loaders import PyPDFLoader\n",
    "import json\n",
    "import os"
   ]
  },
  {
   "cell_type": "code",
   "execution_count": 3,
   "metadata": {},
   "outputs": [],
   "source": [
    "def carregar_documentos(caminho_arquivo):\n",
    "    loader = PyPDFLoader(caminho_arquivo)\n",
    "    documentos = loader.load_and_split()\n",
    "    return documentos\n",
    "\n",
    "def limpar_texto(texto):\n",
    "    return texto.strip()\n",
    "\n",
    "def extrair_informacoes(texto):\n",
    "    linhas = texto.split(\"\\n\")\n",
    "    informacoes = {}\n",
    "    \n",
    "    chave_atual = None\n",
    "    lista_valores = []\n",
    "\n",
    "    for linha in linhas:\n",
    "        linha = linha.strip()\n",
    "        if \":\" in linha and not linha.startswith(\"-\"):\n",
    "            if chave_atual:\n",
    "                informacoes[chave_atual] = lista_valores if lista_valores else valor.strip()\n",
    "            chave, valor = linha.split(\":\", 1)\n",
    "            chave = chave.strip().replace(\" \", \"-\")\n",
    "            valor = valor.strip()\n",
    "            chave_atual = chave\n",
    "            lista_valores = []\n",
    "            informacoes[chave] = valor\n",
    "        elif linha.startswith(\"-\"):\n",
    "            valor = linha.replace(\"-\", \"\").strip()\n",
    "            lista_valores.append(valor)\n",
    "    \n",
    "    if chave_atual:\n",
    "        informacoes[chave_atual] = lista_valores if lista_valores else valor.strip()\n",
    "\n",
    "    return informacoes"
   ]
  },
  {
   "cell_type": "code",
   "execution_count": 4,
   "metadata": {},
   "outputs": [],
   "source": [
    "caminho_arquivo = \"profile.pdf\"\n",
    "\n",
    "if not os.path.exists(caminho_arquivo):\n",
    "    raise FileNotFoundError(f\"O arquivo {caminho_arquivo} não foi encontrado.\")"
   ]
  },
  {
   "cell_type": "code",
   "execution_count": 5,
   "metadata": {},
   "outputs": [
    {
     "name": "stdout",
     "output_type": "stream",
     "text": [
      "[\n",
      "    {\n",
      "        \"Guia-prático-de-TypeScript\": [\n",
      "            \"AWS Community Builders  Autor Técnico  CPA 20  Lider de\"\n",
      "        ],\n",
      "        \"In-my-publication,-\\\"Guia-prático-de-TypeScript\": \"Melhore suas\"\n",
      "    },\n",
      "    {\n",
      "        \"As-a-Techlead-Developer,-I've-been-working-with\": [\n",
      "            \"With .NET/C# API, .NET Core 1,2,3, .NET 5 and .NET 6 , Node.js with\",\n",
      "            \"Creating pipes at Azure to work with Continuous integration and continuous\",\n",
      "            \"Working with SQL Server using dapper and EF Core and NOSql with\",\n",
      "            \"Manager three teams (System team, REC and BandPlay)\"\n",
      "        ]\n",
      "    },\n",
      "    {\n",
      "        \"Projects-that-we-migrate-last-year-to-new-environment\": \"\",\n",
      "        \"*-https\": \"//smithsonianchannel.com.br/home (TypeScript + Node.js at Azure with\",\n",
      "        \"As-a-Developer,-I've-been-working-with-some-really-cool-stuff-here\": [\n",
      "            \"Developing with .NET/C# API, .NET Core, Node.js, Angular and others\",\n",
      "            \"Continuous integration /  continuous delivery\"\n",
      "        ]\n",
      "    },\n",
      "    {\n",
      "        \"As-a-Developer,-I've-been-working-with-some-really-cool-stuff-here\": [\n",
      "            \"Developing with .NET/C# API, .NET Core, Node.js, Angular 2 > and others\",\n",
      "            \"Building all architecture;\",\n",
      "            \"Doing lots of integration with third parties APIs like google, facebook and\"\n",
      "        ]\n",
      "    },\n",
      "    {}\n",
      "]\n"
     ]
    }
   ],
   "source": [
    "documentos = carregar_documentos(caminho_arquivo)\n",
    "\n",
    "informacoes_extraidas = []\n",
    "\n",
    "for doc in documentos:\n",
    "    texto_limpo = limpar_texto(doc.page_content)\n",
    "    informacao = extrair_informacoes(texto_limpo)\n",
    "    informacoes_extraidas.append(informacao)\n",
    "\n",
    "informacoes_json = json.dumps(informacoes_extraidas, indent=4, ensure_ascii=False)\n",
    "print(informacoes_json)\n"
   ]
  },
  {
   "cell_type": "markdown",
   "metadata": {},
   "source": [
    "Analisando o perfil"
   ]
  },
  {
   "cell_type": "code",
   "execution_count": 6,
   "metadata": {},
   "outputs": [],
   "source": [
    "from langchain_community.llms import Ollama\n",
    "from langchain.callbacks.manager import CallbackManager\n",
    "from langchain.callbacks.streaming_stdout import StreamingStdOutCallbackHandler\n",
    "from langchain.prompts import PromptTemplate\n",
    "from langchain.chains import LLMChain"
   ]
  },
  {
   "cell_type": "code",
   "execution_count": 7,
   "metadata": {},
   "outputs": [
    {
     "name": "stderr",
     "output_type": "stream",
     "text": [
      "/var/folders/8_/k1fm88l93q978ncwnjpl0rzr0000gn/T/ipykernel_17295/3094371105.py:12: LangChainDeprecationWarning: The class `LLMChain` was deprecated in LangChain 0.1.17 and will be removed in 1.0. Use RunnableSequence, e.g., `prompt | llm` instead.\n",
      "  chain = LLMChain(\n"
     ]
    },
    {
     "name": "stdout",
     "output_type": "stream",
     "text": [
      "Avaliação resumida do currículo:\n",
      "\n",
      "O candidato tem experiência em várias tecnologias, incluindo TypeScript, Node.js, .NET, C#, Angular e outros. Ele também tem experiência em continuidade de integração e continuidade de entrega.\n",
      "\n",
      "A seção \"Guia Prático de TypeScript\" revela que o candidato é um autor técnico e líder de equipe com experiência em AWS Community Builders. Isso indica que ele tem habilidades como um profissional altamente capacitado e capaz de liderar equipes.\n",
      "\n",
      "A seção \"As um Técnico de Desenvolvimento\" destaca a experiência do candidato em desenvolvimento com tecnologias como .NET/C#, Node.js, Angular e outros. Ele também tem experiência em integração de terceiros APIs, como Google e Facebook.\n",
      "\n",
      "A seção \"Projetos que migramos recentemente para novo ambiente\" é vazia, o que pode indicar que ele não tem muito conhecimento sobre essa área.\n",
      "\n",
      "A seção \"As um Desenvolvedor, eu tenho trabalhado com alguma coisa incrível aqui\" lista várias habilidades e tecnologias de desenvolvimento, incluindo continuidade de integração e entrega. Isso indica que o candidato tem experiência em desenvolvimento contínuo e é capaz de lidar com múltiplas tecnologias simultaneamente.\n",
      "\n",
      "Em resumo, o currículo do candidato destaca sua experiência em várias tecnologias de desenvolvimento, seu papel como líder de equipe e sua habilidade em continuidade de integração e entrega. Ele também mostrou experiência em trabalhar com APIs terceiros e desenvolver aplicativos com Angular 2. No entanto, a seção \"Projetos que migramos recentemente para novo ambiente\" é vazia, o que pode ser um ponto negativo."
     ]
    }
   ],
   "source": [
    "llm = Ollama(\n",
    "    model=\"llama2\",\n",
    "    num_gpu=0,\n",
    "    callback_manager=CallbackManager([StreamingStdOutCallbackHandler()])\n",
    ")\n",
    "\n",
    "prompt_template = PromptTemplate(\n",
    "    input_variables=[\"json_data\"],\n",
    "    template=\"Analise o seguinte currículo de um candidato e forneça uma avaliação resumida em porguês: {json_data}\"\n",
    ")\n",
    "\n",
    "chain = LLMChain(\n",
    "    llm=llm,\n",
    "    prompt=prompt_template\n",
    ")\n",
    "\n",
    "resultado_analise = chain.invoke(informacoes_json)"
   ]
  },
  {
   "cell_type": "code",
   "execution_count": 8,
   "metadata": {},
   "outputs": [
    {
     "name": "stdout",
     "output_type": "stream",
     "text": [
      "Resposta: content='Sim, o candidato parece ter um perfil adequado para a posição de Tech Lead, com base na análise do currículo fornecida. Aqui estão os principais pontos que justificam essa conclusão:\\n\\n1. **Experiência Técnica Abrangente**: O currículo destaca a experiência do candidato com uma variedade de tecnologias-chave, incluindo .NET (nas suas várias versões como .NET Core e .NET 5, 6), C#, TypeScript, Node.js e Angular. Essas são habilidades valiosas para um Tech Lead, que precisa ter um bom entendimento de várias tecnologias para orientar decisões técnicas e solucionar problemas.\\n\\n2. **Liderança de Equipe**: O candidato demonstrou habilidades de liderança ao gerenciar três equipes diferentes (System team, REC e BandPlay). A capacidade de liderar e gerenciar equipes é crucial para um Tech Lead, que deve coordenar esforços, motivar a equipe e assegurar que os projetos estejam alinhados com os objetivos organizacionais.\\n\\n3. **Experiência com Integração Contínua e Entrega Contínua (CI/CD)**: Ele possui experiência com \"Continuous integration and continuous delivery\", práticas essenciais para a manutenção de um ciclo de desenvolvimento ágil e eficiente, características desejáveis em um Tech Lead para garantir a implementação de práticas de desenvolvimento modernas e eficientes.\\n\\n4. **Habilidades de Autoria e Comunidade**: Além das habilidades técnicas, o candidato é um \"Autor Técnico\" e participa de grupos como o AWS Community Builders. Isso sugere que ele é capaz de contribuir com a comunidade e de compartilhar conhecimento, um traço valioso para liderança, pois implica a capacidade de mentorar e instruir outros desenvolvedores.\\n\\n5. **Trabalho com APIs de Terceiros**: A experiência em integrar APIs de terceiros, como Google e Facebook, indica uma forte capacidade de trabalhar com sistemas externos e integrá-los de maneira eficaz, uma habilidade importante para projetos que exigem interoperabilidade entre diferentes tecnologias e plataformas.\\n\\nEmbora a seção \"Projetos que migramos recentemente para novo ambiente\" esteja vazia e possa sugerir uma falta de experiência em migrações recentes, o conjunto geral de habilidades e experiências do candidato compensa esse ponto e é mais relevante para o papel de um Tech Lead. Considerando esses fatores, o candidato parece ser uma escolha robusta para a posição.' additional_kwargs={'refusal': None} response_metadata={'token_usage': {'completion_tokens': 592, 'prompt_tokens': 894, 'total_tokens': 1486}, 'model_name': 'gpt-4-turbo-2024-04-09', 'system_fingerprint': 'fp_6f7679d977', 'finish_reason': 'stop', 'logprobs': None} id='run-6fee96db-49ef-4c25-aca9-5b50f6ffdddc-0' usage_metadata={'input_tokens': 894, 'output_tokens': 592, 'total_tokens': 1486}\n"
     ]
    }
   ],
   "source": [
    "from langchain_openai.chat_models import ChatOpenAI\n",
    "from langchain.prompts import PromptTemplate\n",
    "import re\n",
    "\n",
    "chat = ChatOpenAI(model='gpt-4-turbo')\n",
    "\n",
    "prompt_template = PromptTemplate(\n",
    "    input_variables=[\"analise\"],\n",
    "    template=\"\"\"\n",
    "    Você é um analista do RH (Recursos Humanos).\n",
    "    Aqui está uma análise de currículo fornecida:\n",
    "    {analise}\n",
    "    \n",
    "    De acordo com a análise do currículo, o candidato tem perfil para a posição de Tech Lead? Justifique sua resposta.\n",
    "    \"\"\"\n",
    ")\n",
    "\n",
    "def analise_rh(resultado_analise):\n",
    "    resultado_analise_str = str(resultado_analise)    \n",
    "    prompt = prompt_template.format(analise=resultado_analise_str)    \n",
    "    resposta = chat.invoke(prompt)    \n",
    "    return resposta\n",
    "\n",
    "\n",
    "resposta = analise_rh(resultado_analise)\n",
    "\n",
    "print(f\"Resposta: {resposta}\")\n"
   ]
  }
 ],
 "metadata": {
  "kernelspec": {
   "display_name": "env",
   "language": "python",
   "name": "python3"
  },
  "language_info": {
   "codemirror_mode": {
    "name": "ipython",
    "version": 3
   },
   "file_extension": ".py",
   "mimetype": "text/x-python",
   "name": "python",
   "nbconvert_exporter": "python",
   "pygments_lexer": "ipython3",
   "version": "3.11.8"
  }
 },
 "nbformat": 4,
 "nbformat_minor": 2
}
