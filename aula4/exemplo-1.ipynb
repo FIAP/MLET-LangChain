{
 "cells": [
  {
   "cell_type": "markdown",
   "metadata": {},
   "source": [
    "A Sequential Chain é uma das mais comuns e simples. Nesse tipo de Chain, os prompts são executados em sequência, onde a saída de uma etapa é usada diretamente como entrada para a próxima. Esse encadeamento linear facilita o processamento de dados que dependem diretamente de respostas anteriores.\n"
   ]
  },
  {
   "cell_type": "code",
   "execution_count": 1,
   "metadata": {},
   "outputs": [],
   "source": [
    "from langchain.llms import OpenAI\n",
    "from langchain.chains import LLMChain\n",
    "from langchain.prompts import PromptTemplate\n",
    "from langchain.chains import SequentialChain\n",
    "from langchain.memory import SimpleMemory\n",
    "from datetime import datetime"
   ]
  },
  {
   "cell_type": "markdown",
   "metadata": {},
   "source": [
    "Fluxo 2"
   ]
  },
  {
   "cell_type": "code",
   "execution_count": 2,
   "metadata": {},
   "outputs": [
    {
     "name": "stderr",
     "output_type": "stream",
     "text": [
      "/var/folders/8_/k1fm88l93q978ncwnjpl0rzr0000gn/T/ipykernel_15502/4092824157.py:1: LangChainDeprecationWarning: The class `OpenAI` was deprecated in LangChain 0.0.10 and will be removed in 0.3.0. An updated version of the class exists in the langchain-openai package and should be used instead. To use it run `pip install -U langchain-openai` and import as `from langchain_openai import OpenAI`.\n",
      "  llm = OpenAI()\n"
     ]
    }
   ],
   "source": [
    "llm = OpenAI()\n",
    "\n",
    "\n",
    "template_rapper: str = \"\"\"Você é um compositor de rap renomado. Sua missão é criar uma letra de rap\n",
    "inspirada no tema fornecido.\n",
    "\n",
    "\n",
    "Tema da música:\n",
    "{input}\\\n",
    "\"\"\"\n"
   ]
  },
  {
   "cell_type": "markdown",
   "metadata": {},
   "source": [
    "Fluxo 3"
   ]
  },
  {
   "cell_type": "code",
   "execution_count": 3,
   "metadata": {},
   "outputs": [],
   "source": [
    "prompt_template_rapper: PromptTemplate = PromptTemplate(\n",
    "   input_variables=[\"input\"], template=template_rapper)"
   ]
  },
  {
   "cell_type": "markdown",
   "metadata": {},
   "source": [
    "Fluxo 4"
   ]
  },
  {
   "cell_type": "code",
   "execution_count": 4,
   "metadata": {},
   "outputs": [
    {
     "name": "stderr",
     "output_type": "stream",
     "text": [
      "/var/folders/8_/k1fm88l93q978ncwnjpl0rzr0000gn/T/ipykernel_15502/4026664475.py:1: LangChainDeprecationWarning: The class `LLMChain` was deprecated in LangChain 0.1.17 and will be removed in 1.0. Use RunnableSequence, e.g., `prompt | llm` instead.\n",
      "  cadeia_rapper: LLMChain = LLMChain(\n"
     ]
    }
   ],
   "source": [
    "cadeia_rapper: LLMChain = LLMChain(\n",
    "   llm=llm, output_key=\"letra\", prompt=prompt_template_rapper)\n",
    "\n",
    "\n",
    "template_verificador: str = \"\"\"Você é responsável por revisar letras de rap. Seu trabalho é verificar se as letras contêm\n",
    "algum conteúdo violento ou linguagem inadequada.\n",
    "\n",
    "\n",
    "Por favor, responda no formato de um dicionário Python:\n",
    "letra: a letra recebida\n",
    "Palavras_violentas: Verdadeiro ou Falso\n",
    "\n",
    "\n",
    "Aqui está a letra a ser verificada:\n",
    "{letra}\\\n",
    "\"\"\"\n"
   ]
  },
  {
   "cell_type": "code",
   "execution_count": 5,
   "metadata": {},
   "outputs": [],
   "source": [
    "prompt_template_verificador: PromptTemplate = PromptTemplate(\n",
    "   input_variables=[\"letra\"], template=template_verificador)\n",
    "\n",
    "\n",
    "cadeia_verificador: LLMChain = LLMChain(\n",
    "   llm=llm, output_key=\"letra_verificada\", prompt=prompt_template_verificador)"
   ]
  },
  {
   "cell_type": "code",
   "execution_count": 6,
   "metadata": {},
   "outputs": [],
   "source": [
    "template_final: str = \"\"\"Você é responsável pela verificação final das letras de rap. Seu trabalho é garantir que\n",
    "a letra revisada esteja dentro dos padrões aceitáveis.\n",
    "\n",
    "\n",
    "Sua resposta final deve ser no formato de dicionário Python:\n",
    "letra: a letra recebida\n",
    "Data e hora da verificação: {data_hora_verificacao}\n",
    "Verificada por um humano: {verificada_por_humano}\n",
    "\n",
    "\n",
    "Aqui está a letra revisada:\n",
    "{letra_verificada}\\\n",
    "\"\"\"\n"
   ]
  },
  {
   "cell_type": "code",
   "execution_count": 7,
   "metadata": {},
   "outputs": [
    {
     "name": "stderr",
     "output_type": "stream",
     "text": [
      "/var/folders/8_/k1fm88l93q978ncwnjpl0rzr0000gn/T/ipykernel_15502/2897514934.py:21: LangChainDeprecationWarning: The method `Chain.run` was deprecated in langchain 0.1.0 and will be removed in 1.0. Use invoke instead.\n",
      "  resultado = cadeia_sequencial.run(input=\"violência nas ruas\")\n"
     ]
    },
    {
     "name": "stdout",
     "output_type": "stream",
     "text": [
      "\n",
      "\n",
      "\u001b[1m> Entering new SequentialChain chain...\u001b[0m\n",
      "\n",
      "\u001b[1m> Finished chain.\u001b[0m\n",
      "Se não podemos sair de casa sem temer pela nossa vida e nossa integridade\n",
      "\n",
      "[Verso 2]\n",
      "Falta segurança, falta educação\n",
      "Falta amor, falta empatia no coração\n",
      "A cada dia mais vidas se perdem em vão\n",
      "Enquanto a violência se torna a nossa única opção\n",
      "Mas não podemos mais ficar calados\n",
      "Não podemos deixar que essa seja a nossa realidade\n",
      "É hora de agir, de lutar por um futuro melhor\n",
      "Onde a violência não seja mais o nosso maior temor\n",
      "\n",
      "[Refrão]\n",
      "Uma vida que se vai em vão\n",
      "A cada mãe que chora a morte de um filho\n",
      "A cada coração que se torna mais frio\n",
      "Não podemos mais ficar calados, é hora de agir\n",
      "De lutar por um futuro onde a violência possa sumir\n",
      "Não podemos deixar que a realidade seja essa\n",
      "Onde a violência é a verdade que nos assombra e nos cega\n",
      "\n",
      "Data e hora da verificação: 2024-09-06 23:11:55.451906\n",
      "Verificada por um humano: Falso\n"
     ]
    }
   ],
   "source": [
    "# Criando o template de prompt para a revisão final\n",
    "prompt_template_final: PromptTemplate = PromptTemplate(\n",
    "   input_variables=[\"letra_verificada\", \"data_hora_verificacao\", \"verificada_por_humano\"],\n",
    "   template=template_final\n",
    ")\n",
    "\n",
    "\n",
    "cadeia_final: LLMChain = LLMChain(\n",
    "   llm=llm, output_key=\"saida_final\", prompt=prompt_template_final)\n",
    "\n",
    "\n",
    "cadeia_sequencial: SequentialChain = SequentialChain(\n",
    "   memory=SimpleMemory(memories={\n",
    "                       \"data_hora_verificacao\": str(datetime.utcnow()), \"verificada_por_humano\": \"Falso\"}),\n",
    "   chains=[cadeia_rapper, cadeia_verificador, cadeia_final],\n",
    "   input_variables=[\"input\"],\n",
    "   output_variables=[\"saida_final\"],\n",
    "   verbose=True)\n",
    "\n",
    "\n",
    "resultado = cadeia_sequencial.run(input=\"violência nas ruas\")\n",
    "print(resultado)"
   ]
  }
 ],
 "metadata": {
  "kernelspec": {
   "display_name": "env",
   "language": "python",
   "name": "python3"
  },
  "language_info": {
   "codemirror_mode": {
    "name": "ipython",
    "version": 3
   },
   "file_extension": ".py",
   "mimetype": "text/x-python",
   "name": "python",
   "nbconvert_exporter": "python",
   "pygments_lexer": "ipython3",
   "version": "3.11.8"
  }
 },
 "nbformat": 4,
 "nbformat_minor": 2
}
