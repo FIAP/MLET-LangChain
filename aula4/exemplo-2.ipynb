{
 "cells": [
  {
   "cell_type": "markdown",
   "metadata": {},
   "source": [
    "A Router Chain permite realizar roteamento de prompts com base na entrada do usuário. Esse tipo de encadeamento é útil para lidar com diferentes tipos de perguntas ou resolver problemas distintos, enviando cada um para o processo correto. É uma técnica poderosa quando sua aplicação precisa lidar com fluxos mais dinâmicos e variados.\n"
   ]
  },
  {
   "cell_type": "code",
   "execution_count": 6,
   "metadata": {},
   "outputs": [],
   "source": [
    "from operator import itemgetter\n",
    "from typing import Literal\n",
    "from typing_extensions import TypedDict\n",
    "from langchain_core.output_parsers import StrOutputParser\n",
    "from langchain_core.prompts import ChatPromptTemplate\n",
    "from langchain_core.runnables import RunnableLambda\n",
    "from langchain_openai import ChatOpenAI\n"
   ]
  },
  {
   "cell_type": "markdown",
   "metadata": {},
   "source": [
    "Fluxo 2"
   ]
  },
  {
   "cell_type": "code",
   "execution_count": 7,
   "metadata": {},
   "outputs": [],
   "source": [
    "llm = ChatOpenAI(model=\"gpt-4o-mini\")"
   ]
  },
  {
   "cell_type": "markdown",
   "metadata": {},
   "source": [
    "Fluxo 3"
   ]
  },
  {
   "cell_type": "code",
   "execution_count": 8,
   "metadata": {},
   "outputs": [],
   "source": [
    "prompt_acoes = ChatPromptTemplate.from_messages(\n",
    "   [\n",
    "       (\"system\", \"Você é um especialista em investimentos em ações.\"),\n",
    "       (\"human\", \"{query}\"),\n",
    "   ]\n",
    ")\n",
    "\n",
    "\n",
    "prompt_renda_fixa = ChatPromptTemplate.from_messages(\n",
    "   [\n",
    "       (\"system\", \"Você é um especialista em investimentos de renda fixa.\"),\n",
    "       (\"human\", \"{query}\"),\n",
    "   ]\n",
    ")\n"
   ]
  },
  {
   "cell_type": "markdown",
   "metadata": {},
   "source": [
    "Fluxo 4"
   ]
  },
  {
   "cell_type": "code",
   "execution_count": 9,
   "metadata": {},
   "outputs": [],
   "source": [
    "chain_acoes = prompt_acoes | llm | StrOutputParser()\n",
    "chain_renda_fixa = prompt_renda_fixa | llm | StrOutputParser()"
   ]
  },
  {
   "cell_type": "code",
   "execution_count": 10,
   "metadata": {},
   "outputs": [],
   "source": [
    "route_system = \"Roteie a pergunta do usuário para o especialista em ações ou renda fixa.\"\n",
    "route_prompt = ChatPromptTemplate.from_messages(\n",
    "   [\n",
    "       (\"system\", route_system),\n",
    "       (\"human\", \"{query}\"),\n",
    "   ]\n",
    ")"
   ]
  },
  {
   "cell_type": "code",
   "execution_count": 11,
   "metadata": {},
   "outputs": [
    {
     "name": "stdout",
     "output_type": "stream",
     "text": [
      "Investir em ações de tecnologia pode ser bastante atrativo, mas também envolve riscos significativos. Aqui estão alguns dos principais riscos associados a esse setor:\n",
      "\n",
      "1. **Volatilidade do Mercado**: As ações de tecnologia tendem a ser mais voláteis do que ações de setores mais tradicionais. Mudanças rápidas nas condições de mercado podem levar a grandes oscilações nos preços.\n",
      "\n",
      "2. **Inovação Rápida**: O setor de tecnologia evolui rapidamente. Empresas que hoje são líderes podem se tornar irrelevantes se não conseguirem inovar ou se adaptarem às novas tendências. A obsolescência de produtos e serviços é um risco constante.\n",
      "\n",
      "3. **Concorrência Intensa**: O ambiente competitivo no setor de tecnologia é feroz. Novas startups podem surgir rapidamente e desafiar empresas estabelecidas, o que pode impactar suas participações de mercado e receitas.\n",
      "\n",
      "4. **Mudanças Regulatórias**: O setor de tecnologia enfrenta uma crescente atenção regulatória, especialmente em questões como privacidade de dados, antitruste e segurança cibernética. Mudanças nas leis e regulamentações podem afetar significativamente as operações e lucros das empresas.\n",
      "\n",
      "5. **Dependência de Talentos**: Muitas empresas de tecnologia dependem de profissionais altamente qualificados. A escassez de talentos pode dificultar a capacidade de uma empresa de inovar e crescer.\n",
      "\n",
      "6. **Ciclos Econômicos**: Embora a tecnologia seja uma parte crucial da economia moderna, as empresas do setor podem ser afetadas por ciclos econômicos. Durante recessões, empresas podem cortar gastos em tecnologia, o que pode impactar as receitas.\n",
      "\n",
      "7. **Riscos de Execução**: O sucesso de uma empresa de tecnologia muitas vezes depende da capacidade de sua gestão em executar sua visão e estratégia. Erros na execução podem levar a resultados abaixo do esperado.\n",
      "\n",
      "8. **Exposição a Mudanças Tecnológicas**: A rápida evolução tecnológica pode criar riscos de substituição e descontinuação de produtos. As empresas precisam continuamente investir em pesquisa e desenvolvimento para se manterem relevantes.\n",
      "\n",
      "9. **Problemas de Segurança Cibernética**: Com o aumento da digitalização, as empresas de tecnologia estão cada vez mais expostas a ataques cibernéticos. Uma violação de dados pode prejudicar a reputação de uma empresa e resultar em custos significativos.\n",
      "\n",
      "10. **Fatores Externos**: Geopolítica e questões macroeconômicas, como taxas de juros, inflação e tensões comerciais, podem impactar o setor de tecnologia de maneiras imprevisíveis.\n",
      "\n",
      "Considerando esses riscos, é essencial que os investidores façam uma análise cuidadosa antes de investir em ações de tecnologia, levando em conta sua tolerância ao risco e diversificando suas carteiras para mitigar potenciais perdas.\n"
     ]
    }
   ],
   "source": [
    "class RouteQuery(TypedDict):\n",
    "   destination: Literal[\"acoes\", \"renda_fixa\"]\n",
    "\n",
    "\n",
    "route_chain = (\n",
    "   route_prompt\n",
    "   | llm.with_structured_output(RouteQuery)\n",
    "   | itemgetter(\"destination\")\n",
    ")\n",
    "\n",
    "\n",
    "chain = {\n",
    "   \"destination\": route_chain,\n",
    "   \"query\": lambda x: x[\"query\"],\n",
    "} | RunnableLambda(\n",
    "   lambda x: chain_acoes if x[\"destination\"] == \"acoes\" else chain_renda_fixa,\n",
    ")\n",
    "\n",
    "\n",
    "resultado = chain.invoke({\"query\": \"Quais são os riscos de investir em ações de tecnologia?\"})\n",
    "print(resultado)"
   ]
  }
 ],
 "metadata": {
  "kernelspec": {
   "display_name": "env",
   "language": "python",
   "name": "python3"
  },
  "language_info": {
   "codemirror_mode": {
    "name": "ipython",
    "version": 3
   },
   "file_extension": ".py",
   "mimetype": "text/x-python",
   "name": "python",
   "nbconvert_exporter": "python",
   "pygments_lexer": "ipython3",
   "version": "3.11.8"
  }
 },
 "nbformat": 4,
 "nbformat_minor": 2
}
